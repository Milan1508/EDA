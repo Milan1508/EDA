{
 "cells": [
  {
   "cell_type": "markdown",
   "metadata": {},
   "source": [
    "## HTML Page Read and Upload\n"
   ]
  },
  {
   "cell_type": "code",
   "execution_count": null,
   "metadata": {},
   "outputs": [],
   "source": [
    "# Import useful libraries and classes.\n",
    "from urllib.request import urlopen as uReq\n",
    "from bs4 import BeautifulSoup as soup\n",
    "from dis import dis\n",
    "from xmlrpc.client import Boolean\n",
    "import pandas as pd"
   ]
  },
  {
   "cell_type": "code",
   "execution_count": null,
   "metadata": {},
   "outputs": [],
   "source": [
    "# html page upload and read in web_page variable.\n",
    "my_url = \"\"\n",
    "\n",
    "for i in range(1,34):\n",
    "    my_url = my_url[:-1] + f'{i}'\n",
    "    \n",
    "    web_page = uReq(my_url)\n",
    "    page_html = web_page.read()\n",
    "    # html parser. It is to beautify the HTML code.\n",
    "    page_soup = soup(page_html)\n",
    "    # page_soup\n",
    "\n",
    "   \n"
   ]
  },
  {
   "cell_type": "code",
   "execution_count": null,
   "metadata": {},
   "outputs": [],
   "source": [
    "# read class attribute from web page in containers variable.\n",
    "# Print the length of containers.\n",
    "containers = page_soup.findAll(\"div\", {\"class\": \"_2kHMtA\"})  \n",
    "print(len(containers))\n"
   ]
  },
  {
   "cell_type": "code",
   "execution_count": null,
   "metadata": {},
   "outputs": [],
   "source": [
    "battery = []\n",
    "model = []\n",
    "price = []\n",
    "discount = []\n",
    "camera = []\n",
    "ram = []\n",
    "display = []"
   ]
  },
  {
   "cell_type": "code",
   "execution_count": null,
   "metadata": {},
   "outputs": [],
   "source": [
    "for container in containers:\n",
    "    # inserting model name in the list\n",
    "    model_name = container.findAll(\"div\", {\"class\": \"_4rR01T\"})\n",
    "    model.append(model_name[0].text.strip())\n",
    "    # inserting price and discount similarly\n",
    "    price_model = container.findAll(\"div\", {\"class\": \"_30jeq3 _1_WHN1\"})\n",
    "    price.append(price_model[0].text.strip())\n",
    "\n",
    "    info = container.findAll(\"li\", {\"class\": \"rgWa7D\"}) \n",
    "    ram.append(info[0].text.strip().split(' ', 1)[0])\n",
    "    display.append(info[1].text.strip().split(' ', 1)[0])\n",
    "    camera.append(info[2].text.strip())\n",
    "    battery.append(info[3].text.strip().split(' ', 1)[0])\n",
    "   \n",
    "\n",
    "\n",
    "    discount_percent = container.findAll(\"div\", {\"class\": \"_3Ay6Sb\"})\n",
    "    # discount.append(discount_percent[0].text.strip())\n",
    "    if discount_percent == []:\n",
    "        discount.append(\"Null\")\n",
    "    else:\n",
    "        discount.append(discount_percent[0].text)\n"
   ]
  },
  {
   "cell_type": "code",
   "execution_count": null,
   "metadata": {},
   "outputs": [],
   "source": [
    "df = pd.DataFrame(list(zip(model, battery, camera,display,ram ,price, discount)), columns=[\"Model\", \"Battery(mah)\", \"Camera\",\"Display Size\", \"Ram\", \"Price\", \"Discount\"])\n",
    "df\n",
    "\n",
    "file_name = \"Flipkart_Samsung.xlsx\"\n",
    "\n",
    "df.to_excel(file_name)"
   ]
  }
 ],
 "metadata": {
  "kernelspec": {
   "display_name": "Python 3.9.7 ('base')",
   "language": "python",
   "name": "python3"
  },
  "language_info": {
   "codemirror_mode": {
    "name": "ipython",
    "version": 3
   },
   "file_extension": ".py",
   "mimetype": "text/x-python",
   "name": "python",
   "nbconvert_exporter": "python",
   "pygments_lexer": "ipython3",
   "version": "3.9.7"
  },
  "vscode": {
   "interpreter": {
    "hash": "3c30dc84f9852b227125c636e4ba5a4778443d3e1043ba055d5177e748c49146"
   }
  }
 },
 "nbformat": 4,
 "nbformat_minor": 2
}
