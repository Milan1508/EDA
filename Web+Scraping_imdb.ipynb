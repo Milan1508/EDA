{
 "cells": [
  {
   "cell_type": "markdown",
   "metadata": {},
   "source": [
    "# Web Scraping:\n",
    "1. Import the libraries and classes:\n",
    "    - urllib request.\n",
    "    - BeautifulSoup.\n",
    "2. Steps:\n",
    "\n",
    "\n",
    "    a. html upload.\n",
    "    b. html parser.\n",
    "    c. Extraction of data from web page.\n",
    "    d. Transformation into required file: csv."
   ]
  },
  {
   "cell_type": "code",
   "execution_count": 4,
   "metadata": {},
   "outputs": [],
   "source": [
    "# Import useful libraries and classes.\n",
    "from urllib.request import urlopen as uReq\n",
    "from bs4 import BeautifulSoup as soup"
   ]
  },
  {
   "cell_type": "code",
   "execution_count": 5,
   "metadata": {},
   "outputs": [],
   "source": [
    "#html upload\n",
    "my_url=  \"http://www.imdb.com/search/title?sort=num_votes,desc&start=1&title_type=feature&year=1950,2012\"\n",
    "uClient= uReq(my_url)\n",
    "page_html= uClient.read()\n",
    "uClient.close()"
   ]
  },
  {
   "cell_type": "code",
   "execution_count": 6,
   "metadata": {},
   "outputs": [],
   "source": [
    "#page_html"
   ]
  },
  {
   "cell_type": "code",
   "execution_count": 7,
   "metadata": {},
   "outputs": [],
   "source": [
    "#html parser\n",
    "page_soup= soup(page_html)\n",
    "# page_soup"
   ]
  },
  {
   "cell_type": "code",
   "execution_count": 8,
   "metadata": {},
   "outputs": [
    {
     "name": "stdout",
     "output_type": "stream",
     "text": [
      "50\n"
     ]
    }
   ],
   "source": [
    "#read class from web page.\n",
    "containers= page_soup.findAll(\"div\", {\"class\": \"lister-item mode-advanced\"})\n",
    "print(len(containers))"
   ]
  },
  {
   "cell_type": "code",
   "execution_count": 27,
   "metadata": {},
   "outputs": [
    {
     "data": {
      "text/plain": [
       "'The Matrix'"
      ]
     },
     "execution_count": 27,
     "metadata": {},
     "output_type": "execute_result"
    }
   ],
   "source": [
    "movie_name = containers[6].findAll(\"a\",{\"href\":\"/title/tt0133093/\"})\n",
    "movie_name[1].text\n"
   ]
  },
  {
   "cell_type": "code",
   "execution_count": 11,
   "metadata": {},
   "outputs": [
    {
     "name": "stdout",
     "output_type": "stream",
     "text": [
      "1,804,756\n"
     ]
    }
   ],
   "source": [
    "votes= containers[9].findAll(\"span\", {\"name\": \"nv\"})\n",
    "\n",
    "print(votes[0].text)\n"
   ]
  },
  {
   "cell_type": "code",
   "execution_count": 10,
   "metadata": {},
   "outputs": [
    {
     "name": "stdout",
     "output_type": "stream",
     "text": [
      "\n",
      "An insomniac office worker and a devil-may-care soap maker form an underground fight club that evolves into much more.\n"
     ]
    }
   ],
   "source": [
    "des = containers[3].findAll(\"p\", {\"class\": \"text-muted\"})\n",
    "\n",
    "print(des[1].text)"
   ]
  },
  {
   "cell_type": "code",
   "execution_count": 9,
   "metadata": {},
   "outputs": [
    {
     "name": "stdout",
     "output_type": "stream",
     "text": [
      "The Shawshank Redemption,(1994),142 min\n",
      "\n",
      "The Dark Knight,(2008),152 min\n",
      "\n",
      "Inception,(2010),148 min\n",
      "\n",
      "Fight Club,(1999),139 min\n",
      "\n",
      "Forrest Gump,(1994),142 min\n",
      "\n",
      "Pulp Fiction,(1994),154 min\n",
      "\n",
      "The Matrix,(1999),136 min\n",
      "\n",
      "The Lord of the Rings: The Fellowship of the Ring,(2001),178 min\n",
      "\n",
      "The Godfather,(1972),175 min\n",
      "\n",
      "The Lord of the Rings: The Return of the King,(2003),201 min\n",
      "\n",
      "The Dark Knight Rises,(2012),164 min\n",
      "\n",
      "The Lord of the Rings: The Two Towers,(2002),179 min\n",
      "\n",
      "Se7en,(1995),127 min\n",
      "\n",
      "Django Unchained,(2012),165 min\n",
      "\n",
      "Gladiator,(2000),155 min\n",
      "\n",
      "Batman Begins,(2005),140 min\n",
      "\n",
      "Inglourious Basterds,(2009),153 min\n",
      "\n",
      "The Silence of the Lambs,(1991),118 min\n",
      "\n",
      "The Avengers,(2012),143 min\n",
      "\n",
      "Saving Private Ryan,(1998),169 min\n",
      "\n",
      "Star Wars,(1977),121 min\n",
      "\n",
      "Schindler's List,(1993),195 min\n",
      "\n",
      "The Prestige,(2006),130 min\n",
      "\n",
      "The Departed,(2006),151 min\n",
      "\n",
      "Shutter Island,(2010),138 min\n",
      "\n",
      "The Green Mile,(1999),189 min\n",
      "\n",
      "The Empire Strikes Back,(1980),124 min\n",
      "\n",
      "The Godfather Part II,(1974),202 min\n",
      "\n",
      "Memento,(2000),113 min\n",
      "\n",
      "Avatar,(2009),162 min\n",
      "\n",
      "Back to the Future,(1985),116 min\n",
      "\n",
      "Titanic,(1997),194 min\n",
      "\n",
      "Léon,(1994),110 min\n",
      "\n",
      "American Beauty,(1999),122 min\n",
      "\n",
      "Goodfellas,(1990),145 min\n",
      "\n",
      "Pirates of the Caribbean: The Curse of the Black Pearl,(2003),143 min\n",
      "\n",
      "V for Vendetta,(2005),132 min\n",
      "\n",
      "American History X,(1998),119 min\n",
      "\n",
      "WALL·E,(2008),98 min\n",
      "\n",
      "Kill Bill: Vol. 1,(2003),111 min\n",
      "\n",
      "Terminator 2: Judgment Day,(1991),137 min\n",
      "\n",
      "The Usual Suspects,(1995),106 min\n",
      "\n",
      "The Truman Show,(1998),103 min\n",
      "\n",
      "Iron Man,(2008),126 min\n",
      "\n",
      "The Lion King,(1994),88 min\n",
      "\n",
      "Star Wars: Episode VI - Return of the Jedi,(1983),131 min\n",
      "\n",
      "Finding Nemo,(2003),100 min\n",
      "\n",
      "Up,(2009),96 min\n",
      "\n",
      "Braveheart,(1995),178 min\n",
      "\n",
      "Reservoir Dogs,(1992),99 min\n",
      "\n"
     ]
    }
   ],
   "source": [
    "filename= \"imdb_m.csv\"\n",
    "f= open(filename, \"w\")\n",
    "\n",
    "headers= \"Name, Year, Runtime \\n\"\n",
    "f.write(headers)\n",
    "\n",
    "for container in containers:\n",
    "    name= container.img[\"alt\"]\n",
    "    year_mov= container.findAll(\"span\", {\"class\": \"lister-item-year\"})\n",
    "    year=year_mov[0].text\n",
    "    runtime_mov= container.findAll(\"span\", {\"class\": \"runtime\"})\n",
    "    runtime=runtime_mov[0].text\n",
    "    \n",
    "    print(name + \",\" + year + \",\" + runtime +  \"\\n\")\n",
    "    f.write(name + \",\" + year + \",\" + runtime  + \"\\n\")\n",
    "    \n",
    "f.close()"
   ]
  }
 ],
 "metadata": {
  "kernelspec": {
   "display_name": "Python 3.9.7 ('base')",
   "language": "python",
   "name": "python3"
  },
  "language_info": {
   "codemirror_mode": {
    "name": "ipython",
    "version": 3
   },
   "file_extension": ".py",
   "mimetype": "text/x-python",
   "name": "python",
   "nbconvert_exporter": "python",
   "pygments_lexer": "ipython3",
   "version": "3.9.7"
  },
  "vscode": {
   "interpreter": {
    "hash": "3c30dc84f9852b227125c636e4ba5a4778443d3e1043ba055d5177e748c49146"
   }
  }
 },
 "nbformat": 4,
 "nbformat_minor": 2
}
